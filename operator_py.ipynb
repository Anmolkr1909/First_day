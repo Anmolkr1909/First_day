{
  "nbformat": 4,
  "nbformat_minor": 0,
  "metadata": {
    "colab": {
      "provenance": [],
      "authorship_tag": "ABX9TyOCfKak9ROdGDcTPgigR6Rm",
      "include_colab_link": true
    },
    "kernelspec": {
      "name": "python3",
      "display_name": "Python 3"
    },
    "language_info": {
      "name": "python"
    }
  },
  "cells": [
    {
      "cell_type": "markdown",
      "metadata": {
        "id": "view-in-github",
        "colab_type": "text"
      },
      "source": [
        "<a href=\"https://colab.research.google.com/github/Anmolkr1909/First_day/blob/main/operator_py.ipynb\" target=\"_parent\"><img src=\"https://colab.research.google.com/assets/colab-badge.svg\" alt=\"Open In Colab\"/></a>"
      ]
    },
    {
      "cell_type": "markdown",
      "source": [
        "**#Operator (.py)**\n",
        "\n",
        "\n"
      ],
      "metadata": {
        "id": "Pb_uD91v-dBH"
      }
    },
    {
      "cell_type": "markdown",
      "source": [
        "----"
      ],
      "metadata": {
        "id": "Opm_4D8a_Fc8"
      }
    },
    {
      "cell_type": "markdown",
      "source": [
        "**Airthmatic operator**\n",
        "\n",
        "---\n",
        "\n"
      ],
      "metadata": {
        "id": "1eDhbzIR-zlo"
      }
    },
    {
      "cell_type": "markdown",
      "source": [
        "1) Calculate total price of items\n",
        "\n",
        "-  price of one item = 50\n",
        "-total item (quantity) = 3\n"
      ],
      "metadata": {
        "id": "u4k7SXIZ_NNU"
      }
    },
    {
      "cell_type": "code",
      "source": [
        "price = 50\n",
        "quantity = 3\n",
        "\n",
        "total_price = price * quantity\n",
        "print(total_price)"
      ],
      "metadata": {
        "colab": {
          "base_uri": "https://localhost:8080/"
        },
        "id": "xTg0SLB6_Mkf",
        "outputId": "8739b1c8-4523-46d3-94a9-8e342d3c6913"
      },
      "execution_count": null,
      "outputs": [
        {
          "output_type": "stream",
          "name": "stdout",
          "text": [
            "150\n"
          ]
        }
      ]
    },
    {
      "cell_type": "markdown",
      "source": [
        "\n",
        "\n",
        "---\n",
        "\n"
      ],
      "metadata": {
        "id": "6qRwNSlLBaYe"
      }
    },
    {
      "cell_type": "markdown",
      "source": [
        "2) Finding average marks\n",
        "*   math = 90\n",
        "*  english = 85\n",
        "*  science = 80\n",
        "*  computer = 98\n",
        "\n",
        "\n"
      ],
      "metadata": {
        "id": "rJRTvDTJBcaE"
      }
    },
    {
      "cell_type": "code",
      "source": [
        "math = 80\n",
        "english = 85\n",
        "science = 80\n",
        "computer = 98\n",
        "\n",
        "average_marks = (math + english + science + computer)/4\n",
        "print(average_marks)"
      ],
      "metadata": {
        "colab": {
          "base_uri": "https://localhost:8080/"
        },
        "id": "mPo8V8h9DDD1",
        "outputId": "832345eb-5b43-4644-fd02-78a879268907"
      },
      "execution_count": null,
      "outputs": [
        {
          "output_type": "stream",
          "name": "stdout",
          "text": [
            "85.75\n"
          ]
        }
      ]
    },
    {
      "cell_type": "markdown",
      "source": [
        "\n",
        "\n",
        "---\n",
        "\n"
      ],
      "metadata": {
        "id": "0RDL2FE-DbRf"
      }
    },
    {
      "cell_type": "markdown",
      "source": [
        "3) Convert temprature\n",
        " * celsius to fahrenheit\n",
        " * celsius = 37"
      ],
      "metadata": {
        "id": "fARG4CpdDWNW"
      }
    },
    {
      "cell_type": "code",
      "source": [
        "celsius = 37\n",
        "fahrenheit = (celsius * 9/5) + 32\n",
        "print(fahrenheit)"
      ],
      "metadata": {
        "colab": {
          "base_uri": "https://localhost:8080/"
        },
        "id": "wYM4wPXND31k",
        "outputId": "30eb1194-4d46-47ae-993a-b7e6b6a49555"
      },
      "execution_count": null,
      "outputs": [
        {
          "output_type": "stream",
          "name": "stdout",
          "text": [
            "98.6\n"
          ]
        }
      ]
    },
    {
      "cell_type": "markdown",
      "source": [
        "\n",
        "\n",
        "---\n",
        "\n"
      ],
      "metadata": {
        "id": "aSSCFTVwEGU-"
      }
    },
    {
      "cell_type": "markdown",
      "source": [
        "4) Split bill Between friends\n",
        "  * total_bill = 24000\n",
        "  * friends = 4\n"
      ],
      "metadata": {
        "id": "_KAfY82yEHxz"
      }
    },
    {
      "cell_type": "code",
      "source": [
        "total_bill = 24000\n",
        "friends = 4\n",
        "\n",
        "each_pay = total_bill / friends\n",
        "print(each_pay)"
      ],
      "metadata": {
        "colab": {
          "base_uri": "https://localhost:8080/"
        },
        "id": "u0xnxmupEry0",
        "outputId": "27bb1b43-410d-419e-dfba-b2f043d4212c"
      },
      "execution_count": null,
      "outputs": [
        {
          "output_type": "stream",
          "name": "stdout",
          "text": [
            "6000.0\n"
          ]
        }
      ]
    },
    {
      "cell_type": "markdown",
      "source": [
        "\n",
        "\n",
        "---\n",
        "\n"
      ],
      "metadata": {
        "id": "UYL9NcJDFEnq"
      }
    },
    {
      "cell_type": "markdown",
      "source": [
        "5) For calculating simple interest\n",
        "*   principal = 500000\n",
        "*   rate = 5  (percent)\n",
        "*   time = 2   (year)\n",
        "\n",
        "\n",
        "\n"
      ],
      "metadata": {
        "id": "6Ymh1Cp3FLzc"
      }
    },
    {
      "cell_type": "code",
      "source": [
        "principal = 500000\n",
        "rate = 5\n",
        "time = 2\n",
        "\n",
        "simple_interest = (principal * rate * time)/100\n",
        "print(simple_interest)\n"
      ],
      "metadata": {
        "colab": {
          "base_uri": "https://localhost:8080/"
        },
        "id": "FdXs65nIF__M",
        "outputId": "6693df74-ec59-42b6-f149-6314e86d26d8"
      },
      "execution_count": null,
      "outputs": [
        {
          "output_type": "stream",
          "name": "stdout",
          "text": [
            "50000.0\n"
          ]
        }
      ]
    },
    {
      "cell_type": "markdown",
      "source": [
        "\n",
        "\n",
        "---\n",
        "\n"
      ],
      "metadata": {
        "id": "6wFkVCfBGF2v"
      }
    },
    {
      "cell_type": "markdown",
      "source": [],
      "metadata": {
        "id": "VjBQwrJZGN0K"
      }
    }
  ]
}