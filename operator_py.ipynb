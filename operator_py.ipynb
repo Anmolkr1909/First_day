{
  "nbformat": 4,
  "nbformat_minor": 0,
  "metadata": {
    "colab": {
      "provenance": [],
      "authorship_tag": "ABX9TyOVgvAga6XKoltUbD5jTfCP",
      "include_colab_link": true
    },
    "kernelspec": {
      "name": "python3",
      "display_name": "Python 3"
    },
    "language_info": {
      "name": "python"
    }
  },
  "cells": [
    {
      "cell_type": "markdown",
      "metadata": {
        "id": "view-in-github",
        "colab_type": "text"
      },
      "source": [
        "<a href=\"https://colab.research.google.com/github/Anmolkr1909/First_day/blob/main/operator_py.ipynb\" target=\"_parent\"><img src=\"https://colab.research.google.com/assets/colab-badge.svg\" alt=\"Open In Colab\"/></a>"
      ]
    },
    {
      "cell_type": "markdown",
      "source": [
        "#  Operator (.py)\n",
        "\n",
        "\n"
      ],
      "metadata": {
        "id": "Pb_uD91v-dBH"
      }
    },
    {
      "cell_type": "markdown",
      "source": [
        "----"
      ],
      "metadata": {
        "id": "Opm_4D8a_Fc8"
      }
    },
    {
      "cell_type": "markdown",
      "source": [
        "**Airthmatic operator**\n",
        "\n",
        "---\n",
        "\n"
      ],
      "metadata": {
        "id": "1eDhbzIR-zlo"
      }
    },
    {
      "cell_type": "markdown",
      "source": [
        "1) Calculate total price of items\n",
        "\n",
        "-  price of one item = 50\n",
        "-total item (quantity) = 3\n"
      ],
      "metadata": {
        "id": "u4k7SXIZ_NNU"
      }
    },
    {
      "cell_type": "code",
      "source": [
        "price = 50\n",
        "quantity = 3\n",
        "\n",
        "total_price = price * quantity\n",
        "print(total_price)"
      ],
      "metadata": {
        "colab": {
          "base_uri": "https://localhost:8080/"
        },
        "id": "xTg0SLB6_Mkf",
        "outputId": "8739b1c8-4523-46d3-94a9-8e342d3c6913"
      },
      "execution_count": null,
      "outputs": [
        {
          "output_type": "stream",
          "name": "stdout",
          "text": [
            "150\n"
          ]
        }
      ]
    },
    {
      "cell_type": "markdown",
      "source": [
        "\n",
        "\n",
        "---\n",
        "\n"
      ],
      "metadata": {
        "id": "6qRwNSlLBaYe"
      }
    },
    {
      "cell_type": "markdown",
      "source": [
        "2) Finding average marks\n",
        "*   math = 90\n",
        "*  english = 85\n",
        "*  science = 80\n",
        "*  computer = 98\n",
        "\n",
        "\n"
      ],
      "metadata": {
        "id": "rJRTvDTJBcaE"
      }
    },
    {
      "cell_type": "code",
      "source": [
        "math = 80\n",
        "english = 85\n",
        "science = 80\n",
        "computer = 98\n",
        "\n",
        "average_marks = (math + english + science + computer)/4\n",
        "print(average_marks)"
      ],
      "metadata": {
        "colab": {
          "base_uri": "https://localhost:8080/"
        },
        "id": "mPo8V8h9DDD1",
        "outputId": "832345eb-5b43-4644-fd02-78a879268907"
      },
      "execution_count": null,
      "outputs": [
        {
          "output_type": "stream",
          "name": "stdout",
          "text": [
            "85.75\n"
          ]
        }
      ]
    },
    {
      "cell_type": "markdown",
      "source": [
        "\n",
        "\n",
        "---\n",
        "\n"
      ],
      "metadata": {
        "id": "0RDL2FE-DbRf"
      }
    },
    {
      "cell_type": "markdown",
      "source": [
        "3) Convert temprature\n",
        " * celsius to fahrenheit\n",
        " * celsius = 37"
      ],
      "metadata": {
        "id": "fARG4CpdDWNW"
      }
    },
    {
      "cell_type": "code",
      "source": [
        "celsius = 37\n",
        "fahrenheit = (celsius * 9/5) + 32\n",
        "print(fahrenheit)"
      ],
      "metadata": {
        "colab": {
          "base_uri": "https://localhost:8080/"
        },
        "id": "wYM4wPXND31k",
        "outputId": "30eb1194-4d46-47ae-993a-b7e6b6a49555"
      },
      "execution_count": null,
      "outputs": [
        {
          "output_type": "stream",
          "name": "stdout",
          "text": [
            "98.6\n"
          ]
        }
      ]
    },
    {
      "cell_type": "markdown",
      "source": [
        "\n",
        "\n",
        "---\n",
        "\n"
      ],
      "metadata": {
        "id": "aSSCFTVwEGU-"
      }
    },
    {
      "cell_type": "markdown",
      "source": [
        "4) Split bill Between friends\n",
        "  * total_bill = 24000\n",
        "  * friends = 4\n"
      ],
      "metadata": {
        "id": "_KAfY82yEHxz"
      }
    },
    {
      "cell_type": "code",
      "source": [
        "total_bill = 24000\n",
        "friends = 4\n",
        "\n",
        "each_pay = total_bill / friends\n",
        "print(each_pay)"
      ],
      "metadata": {
        "colab": {
          "base_uri": "https://localhost:8080/"
        },
        "id": "u0xnxmupEry0",
        "outputId": "27bb1b43-410d-419e-dfba-b2f043d4212c"
      },
      "execution_count": null,
      "outputs": [
        {
          "output_type": "stream",
          "name": "stdout",
          "text": [
            "6000.0\n"
          ]
        }
      ]
    },
    {
      "cell_type": "markdown",
      "source": [
        "\n",
        "\n",
        "---\n",
        "\n"
      ],
      "metadata": {
        "id": "UYL9NcJDFEnq"
      }
    },
    {
      "cell_type": "markdown",
      "source": [
        "5) For calculating simple interest\n",
        "*   principal = 500000\n",
        "*   rate = 5  (percent)\n",
        "*   time = 2   (year)\n",
        "\n",
        "\n",
        "\n"
      ],
      "metadata": {
        "id": "6Ymh1Cp3FLzc"
      }
    },
    {
      "cell_type": "code",
      "source": [
        "principal = 500000\n",
        "rate = 5\n",
        "time = 2\n",
        "\n",
        "simple_interest = (principal * rate * time)/100\n",
        "print(simple_interest)\n"
      ],
      "metadata": {
        "colab": {
          "base_uri": "https://localhost:8080/"
        },
        "id": "FdXs65nIF__M",
        "outputId": "6693df74-ec59-42b6-f149-6314e86d26d8"
      },
      "execution_count": null,
      "outputs": [
        {
          "output_type": "stream",
          "name": "stdout",
          "text": [
            "50000.0\n"
          ]
        }
      ]
    },
    {
      "cell_type": "markdown",
      "source": [
        "\n",
        "\n",
        "---\n",
        "\n"
      ],
      "metadata": {
        "id": "6wFkVCfBGF2v"
      }
    },
    {
      "cell_type": "markdown",
      "source": [
        "6) Area of circle\n",
        "* Radius = 8\n",
        "* pi = 3.14"
      ],
      "metadata": {
        "id": "VjBQwrJZGN0K"
      }
    },
    {
      "cell_type": "code",
      "source": [
        "radius = 8\n",
        "pi = 3.14\n",
        "\n",
        "area = pi * radius * radius\n",
        "print(\"The area of circle:\",area)"
      ],
      "metadata": {
        "colab": {
          "base_uri": "https://localhost:8080/"
        },
        "id": "HZaC8wVlljrM",
        "outputId": "d787fa0c-2c8c-421c-d695-354e2bffd22e"
      },
      "execution_count": null,
      "outputs": [
        {
          "output_type": "stream",
          "name": "stdout",
          "text": [
            "The area of circle: 200.96\n"
          ]
        }
      ]
    },
    {
      "cell_type": "markdown",
      "source": [
        "\n",
        "\n",
        "---\n",
        "\n"
      ],
      "metadata": {
        "id": "mubR5varxdf6"
      }
    },
    {
      "cell_type": "markdown",
      "source": [
        "7) Monthly Salary from annual package  \n",
        "*   Annual salary = 600000\n",
        "*   Monthly salary = ?     \n"
      ],
      "metadata": {
        "id": "cfl2siRomRTd"
      }
    },
    {
      "cell_type": "code",
      "source": [
        "annual_salary = 600000\n",
        "monthly_salary = annual_salary / 12\n",
        "print(\"The montly salary is:\", monthly_salary)"
      ],
      "metadata": {
        "colab": {
          "base_uri": "https://localhost:8080/"
        },
        "id": "GbnB58gWnbA9",
        "outputId": "ea86f3bf-98b7-4499-9322-208d3be4d2ab"
      },
      "execution_count": null,
      "outputs": [
        {
          "output_type": "stream",
          "name": "stdout",
          "text": [
            "The montly salary is: 50000.0\n"
          ]
        }
      ]
    },
    {
      "cell_type": "markdown",
      "source": [
        "\n",
        "\n",
        "---\n",
        "\n"
      ],
      "metadata": {
        "id": "ukhL7pZYxe8y"
      }
    },
    {
      "cell_type": "markdown",
      "source": [
        "8) Body mass index (BMI) calculator\n",
        "*   weight = 60 kg\n",
        "*   height = 1.65 meters\n",
        "\n"
      ],
      "metadata": {
        "id": "NnubMOV3n_E3"
      }
    },
    {
      "cell_type": "code",
      "source": [
        "weight =  60\n",
        "height = 1.65\n",
        "\n",
        "bmi = weight / (height * height)\n",
        "print(\"The BMI is:\", bmi)"
      ],
      "metadata": {
        "colab": {
          "base_uri": "https://localhost:8080/"
        },
        "id": "KPLCWUqLou0_",
        "outputId": "e443ce19-6101-49eb-93e3-766b8ec68aad"
      },
      "execution_count": null,
      "outputs": [
        {
          "output_type": "stream",
          "name": "stdout",
          "text": [
            "The BMI is: 22.03856749311295\n"
          ]
        }
      ]
    },
    {
      "cell_type": "markdown",
      "source": [
        "\n",
        "\n",
        "---\n",
        "\n"
      ],
      "metadata": {
        "id": "KjzVnYVtxgfE"
      }
    },
    {
      "cell_type": "markdown",
      "source": [
        "9) Speed calculation\n",
        "*   distance = 2000 km\n",
        "*   time = 3 hour\n",
        "\n"
      ],
      "metadata": {
        "id": "D72VQ1ICpaRW"
      }
    },
    {
      "cell_type": "code",
      "source": [
        "distance = 2000\n",
        "time = 3\n",
        "\n",
        "speed = distance / time\n",
        "print(\"The speed is:\", speed)"
      ],
      "metadata": {
        "id": "7-J0HnaRp3Z-"
      },
      "execution_count": null,
      "outputs": []
    },
    {
      "cell_type": "markdown",
      "source": [
        "\n",
        "\n",
        "---\n",
        "\n"
      ],
      "metadata": {
        "id": "kvwBtQelxiRG"
      }
    },
    {
      "cell_type": "markdown",
      "source": [
        "10) Emi per month for loan\n",
        "*   total loan = 1800000\n",
        "*   months = 12\n",
        "\n"
      ],
      "metadata": {
        "id": "p8ymjrl7qCe1"
      }
    },
    {
      "cell_type": "code",
      "source": [
        "total_loan = 1800000\n",
        "months = 12\n",
        "\n",
        "emi = total_loan / months\n",
        "print(\"The emi per month is:\", emi)"
      ],
      "metadata": {
        "colab": {
          "base_uri": "https://localhost:8080/"
        },
        "id": "KqLm6EgoqB-x",
        "outputId": "02629d6b-1080-4f06-e552-a431d8e05a1f"
      },
      "execution_count": null,
      "outputs": [
        {
          "output_type": "stream",
          "name": "stdout",
          "text": [
            "The emi per month is: 150000.0\n"
          ]
        }
      ]
    },
    {
      "cell_type": "markdown",
      "source": [
        "\n",
        "\n",
        "---\n",
        "\n"
      ],
      "metadata": {
        "id": "jz_qZZZ-xjlI"
      }
    },
    {
      "cell_type": "markdown",
      "source": [
        "11) Wallet balance\n",
        "*   Wallet = 600\n",
        "*   spent = 335\n"
      ],
      "metadata": {
        "id": "NVj4GorSq-UI"
      }
    },
    {
      "cell_type": "code",
      "source": [
        "wallet_balance = 600\n",
        "spent = 335\n",
        "\n",
        "wallet_balance = wallet_balance - spent\n",
        "print(\"The wallet balance is:\", wallet_balance)"
      ],
      "metadata": {
        "colab": {
          "base_uri": "https://localhost:8080/"
        },
        "id": "yAUvq0u5rqEk",
        "outputId": "56a18d3c-76cf-481c-c355-1f89656f0bb3"
      },
      "execution_count": null,
      "outputs": [
        {
          "output_type": "stream",
          "name": "stdout",
          "text": [
            "The wallet balance is: 265\n"
          ]
        }
      ]
    },
    {
      "cell_type": "markdown",
      "source": [],
      "metadata": {
        "id": "mBFF75nRxk5e"
      }
    },
    {
      "cell_type": "markdown",
      "source": [
        "12) Exact pages in books\n",
        "*   total pages = 107\n",
        "*   pages per book = 25\n",
        "\n",
        "\n"
      ],
      "metadata": {
        "id": "B0PmCs3fr7La"
      }
    },
    {
      "cell_type": "code",
      "source": [
        "total_pages = 107\n",
        "pages_per_book = 25\n",
        "\n",
        "exact_pages = total_pages // pages_per_book  #with help of floor divison\n",
        "print(\"The exact pages in books is:\", exact_pages)"
      ],
      "metadata": {
        "colab": {
          "base_uri": "https://localhost:8080/"
        },
        "id": "lVGiay1usrrz",
        "outputId": "5713c307-90fb-4919-861d-554bb380bc9d"
      },
      "execution_count": null,
      "outputs": [
        {
          "output_type": "stream",
          "name": "stdout",
          "text": [
            "The exact pages in books is: 4\n"
          ]
        }
      ]
    },
    {
      "cell_type": "markdown",
      "source": [],
      "metadata": {
        "id": "FJCiBhx7xlvS"
      }
    },
    {
      "cell_type": "markdown",
      "source": [
        "13) left overpages\n",
        "*  total pages = 107\n",
        "*  pages per book = 25\n",
        "\n"
      ],
      "metadata": {
        "id": "__youbOitnZw"
      }
    },
    {
      "cell_type": "code",
      "source": [
        "total_pages = 107\n",
        "pages_per_book = 25\n",
        "\n",
        "left_over_pages = total_pages % pages_per_book  #modulas\n",
        "print(\"The left over pages is:\", left_over_pages)\n"
      ],
      "metadata": {
        "colab": {
          "base_uri": "https://localhost:8080/"
        },
        "id": "H65F551Wt-fS",
        "outputId": "46e4f10d-fda7-442c-9be8-701f2130a88e"
      },
      "execution_count": null,
      "outputs": [
        {
          "output_type": "stream",
          "name": "stdout",
          "text": [
            "The left over pages is: 7\n"
          ]
        }
      ]
    },
    {
      "cell_type": "markdown",
      "source": [
        "\n",
        "\n",
        "---\n",
        "\n"
      ],
      "metadata": {
        "id": "ppcR0VrQxmcT"
      }
    },
    {
      "cell_type": "markdown",
      "source": [
        "14) Square of a number\n",
        "\n",
        "\n",
        "*   number = 4\n",
        "*   square = ?\n",
        "\n",
        "\n",
        "\n",
        "\n",
        "\n",
        "\n"
      ],
      "metadata": {
        "id": "D-jyFtNmvPc7"
      }
    },
    {
      "cell_type": "code",
      "source": [
        "number = 4\n",
        "square = number * number\n",
        "\n",
        "print(\"The square of a number is:\", square)"
      ],
      "metadata": {
        "colab": {
          "base_uri": "https://localhost:8080/"
        },
        "id": "V6RqfMaOwNJO",
        "outputId": "6ed696f9-e987-447a-e780-ed8f3352801c"
      },
      "execution_count": null,
      "outputs": [
        {
          "output_type": "stream",
          "name": "stdout",
          "text": [
            "The square of a number is: 16\n"
          ]
        }
      ]
    },
    {
      "cell_type": "markdown",
      "source": [
        "\n",
        "\n",
        "---\n",
        "\n"
      ],
      "metadata": {
        "id": "ypcJ5rpFxomr"
      }
    },
    {
      "cell_type": "markdown",
      "source": [],
      "metadata": {
        "id": "_5JRuENkxokQ"
      }
    },
    {
      "cell_type": "markdown",
      "source": [
        "15) Population growth example\n",
        "\n",
        "\n",
        "*   intial population = 1000\n",
        "*   year = 5\n",
        "\n",
        "It doubles every year\n",
        "\n"
      ],
      "metadata": {
        "id": "UxpZmzOjwZjy"
      }
    },
    {
      "cell_type": "code",
      "source": [
        "intial_population = 1000\n",
        "year = 5\n",
        "\n",
        "final_population = intial_population * (2 ** year)\n",
        "print(\"The final population is:\", final_population)"
      ],
      "metadata": {
        "colab": {
          "base_uri": "https://localhost:8080/"
        },
        "id": "LFh8KsaXxTd6",
        "outputId": "1ffa4348-1fc8-4d77-b408-0148899007c5"
      },
      "execution_count": null,
      "outputs": [
        {
          "output_type": "stream",
          "name": "stdout",
          "text": [
            "The final population is: 32000\n"
          ]
        }
      ]
    },
    {
      "cell_type": "markdown",
      "source": [
        "\n",
        "\n",
        "---\n",
        "\n"
      ],
      "metadata": {
        "id": "ReBftNBDxp7X"
      }
    }
  ]
}